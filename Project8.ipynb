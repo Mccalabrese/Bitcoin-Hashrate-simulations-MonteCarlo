{
 "cells": [
  {
   "cell_type": "code",
   "execution_count": 8,
   "id": "a060da1e-f67e-498e-b3bb-d9952af7d485",
   "metadata": {
    "tags": []
   },
   "outputs": [],
   "source": [
    "# Initial imports\n",
    "import pandas as pd\n",
    "import numpy as np\n",
    "import datetime as dt\n",
    "import seaborn as sns\n",
    "from pathlib import Path\n",
    "\n",
    "%matplotlib inline"
   ]
  },
  {
   "cell_type": "code",
   "execution_count": 9,
   "id": "493aa265-eade-4ebb-876e-d450be021926",
   "metadata": {
    "tags": []
   },
   "outputs": [
    {
     "name": "stderr",
     "output_type": "stream",
     "text": [
      "/var/folders/5m/7yfwqfkn3hs5pf3sylkksfc40000gn/T/ipykernel_3306/432031655.py:3: FutureWarning: The argument 'infer_datetime_format' is deprecated and will be removed in a future version. A strict version of it is now the default, see https://pandas.pydata.org/pdeps/0004-consistent-to-datetime-parsing.html. You can safely remove this argument.\n",
      "  hash_df = pd.read_csv(global_hash_path, index_col=\"date\", parse_dates=True, infer_datetime_format=True)\n"
     ]
    },
    {
     "data": {
      "text/html": [
       "<div>\n",
       "<style scoped>\n",
       "    .dataframe tbody tr th:only-of-type {\n",
       "        vertical-align: middle;\n",
       "    }\n",
       "\n",
       "    .dataframe tbody tr th {\n",
       "        vertical-align: top;\n",
       "    }\n",
       "\n",
       "    .dataframe thead th {\n",
       "        text-align: right;\n",
       "    }\n",
       "</style>\n",
       "<table border=\"1\" class=\"dataframe\">\n",
       "  <thead>\n",
       "    <tr style=\"text-align: right;\">\n",
       "      <th></th>\n",
       "      <th>country</th>\n",
       "      <th>monthly_hashrate_%</th>\n",
       "      <th>monthly_absolute_hashrate_EH/S</th>\n",
       "    </tr>\n",
       "    <tr>\n",
       "      <th>date</th>\n",
       "      <th></th>\n",
       "      <th></th>\n",
       "      <th></th>\n",
       "    </tr>\n",
       "  </thead>\n",
       "  <tbody>\n",
       "    <tr>\n",
       "      <th>2019-09-01</th>\n",
       "      <td>Mainland China</td>\n",
       "      <td>75.53%</td>\n",
       "      <td>66.76</td>\n",
       "    </tr>\n",
       "    <tr>\n",
       "      <th>2019-09-01</th>\n",
       "      <td>Other</td>\n",
       "      <td>6.1%</td>\n",
       "      <td>5.39</td>\n",
       "    </tr>\n",
       "    <tr>\n",
       "      <th>2019-09-01</th>\n",
       "      <td>Russian Federation</td>\n",
       "      <td>5.93%</td>\n",
       "      <td>5.24</td>\n",
       "    </tr>\n",
       "    <tr>\n",
       "      <th>2019-09-01</th>\n",
       "      <td>United States</td>\n",
       "      <td>4.06%</td>\n",
       "      <td>3.59</td>\n",
       "    </tr>\n",
       "    <tr>\n",
       "      <th>2019-09-01</th>\n",
       "      <td>Malaysia</td>\n",
       "      <td>3.25%</td>\n",
       "      <td>2.88</td>\n",
       "    </tr>\n",
       "  </tbody>\n",
       "</table>\n",
       "</div>"
      ],
      "text/plain": [
       "                       country monthly_hashrate_%  \\\n",
       "date                                                \n",
       "2019-09-01      Mainland China             75.53%   \n",
       "2019-09-01               Other               6.1%   \n",
       "2019-09-01  Russian Federation              5.93%   \n",
       "2019-09-01       United States              4.06%   \n",
       "2019-09-01            Malaysia              3.25%   \n",
       "\n",
       "            monthly_absolute_hashrate_EH/S  \n",
       "date                                        \n",
       "2019-09-01                           66.76  \n",
       "2019-09-01                            5.39  \n",
       "2019-09-01                            5.24  \n",
       "2019-09-01                            3.59  \n",
       "2019-09-01                            2.88  "
      ]
     },
     "execution_count": 9,
     "metadata": {},
     "output_type": "execute_result"
    }
   ],
   "source": [
    "# Reading hash returns\n",
    "global_hash_path = Path(\"Resources/export.csv\")\n",
    "hash_df = pd.read_csv(global_hash_path, index_col=\"date\", parse_dates=True, infer_datetime_format=True)\n",
    "hash_df.head()"
   ]
  },
  {
   "cell_type": "code",
   "execution_count": 10,
   "id": "098299ae-606a-4588-8ed2-79f21495852c",
   "metadata": {
    "tags": []
   },
   "outputs": [
    {
     "data": {
      "text/html": [
       "<div>\n",
       "<style scoped>\n",
       "    .dataframe tbody tr th:only-of-type {\n",
       "        vertical-align: middle;\n",
       "    }\n",
       "\n",
       "    .dataframe tbody tr th {\n",
       "        vertical-align: top;\n",
       "    }\n",
       "\n",
       "    .dataframe thead th {\n",
       "        text-align: right;\n",
       "    }\n",
       "</style>\n",
       "<table border=\"1\" class=\"dataframe\">\n",
       "  <thead>\n",
       "    <tr style=\"text-align: right;\">\n",
       "      <th></th>\n",
       "      <th>country</th>\n",
       "      <th>monthly_hashrate_%</th>\n",
       "      <th>monthly_absolute_hashrate_EH/S</th>\n",
       "    </tr>\n",
       "    <tr>\n",
       "      <th>date</th>\n",
       "      <th></th>\n",
       "      <th></th>\n",
       "      <th></th>\n",
       "    </tr>\n",
       "  </thead>\n",
       "  <tbody>\n",
       "    <tr>\n",
       "      <th>2019-09-01</th>\n",
       "      <td>Mainland China</td>\n",
       "      <td>75.53%</td>\n",
       "      <td>66.76</td>\n",
       "    </tr>\n",
       "    <tr>\n",
       "      <th>2019-09-01</th>\n",
       "      <td>Other</td>\n",
       "      <td>6.1%</td>\n",
       "      <td>5.39</td>\n",
       "    </tr>\n",
       "    <tr>\n",
       "      <th>2019-09-01</th>\n",
       "      <td>Russian Federation</td>\n",
       "      <td>5.93%</td>\n",
       "      <td>5.24</td>\n",
       "    </tr>\n",
       "    <tr>\n",
       "      <th>2019-09-01</th>\n",
       "      <td>United States</td>\n",
       "      <td>4.06%</td>\n",
       "      <td>3.59</td>\n",
       "    </tr>\n",
       "    <tr>\n",
       "      <th>2019-09-01</th>\n",
       "      <td>Malaysia</td>\n",
       "      <td>3.25%</td>\n",
       "      <td>2.88</td>\n",
       "    </tr>\n",
       "  </tbody>\n",
       "</table>\n",
       "</div>"
      ],
      "text/plain": [
       "                       country monthly_hashrate_%  \\\n",
       "date                                                \n",
       "2019-09-01      Mainland China             75.53%   \n",
       "2019-09-01               Other               6.1%   \n",
       "2019-09-01  Russian Federation              5.93%   \n",
       "2019-09-01       United States              4.06%   \n",
       "2019-09-01            Malaysia              3.25%   \n",
       "\n",
       "            monthly_absolute_hashrate_EH/S  \n",
       "date                                        \n",
       "2019-09-01                           66.76  \n",
       "2019-09-01                            5.39  \n",
       "2019-09-01                            5.24  \n",
       "2019-09-01                            3.59  \n",
       "2019-09-01                            2.88  "
      ]
     },
     "execution_count": 10,
     "metadata": {},
     "output_type": "execute_result"
    }
   ],
   "source": [
    "# Cleaning the data\n",
    "hash_df.isnull().sum()\n",
    "hash_df.isnull().sum() / len(hash_df) * 100\n",
    "hash_df.dropna(inplace=True)\n",
    "hash_df.sort_index(inplace=True)\n",
    "hash_df.head()"
   ]
  },
  {
   "cell_type": "code",
   "execution_count": 13,
   "id": "cb825b32-17df-4713-88bc-2764023dd67b",
   "metadata": {
    "tags": []
   },
   "outputs": [
    {
     "ename": "KeyError",
     "evalue": "\"['monthly_hashrate_%'] not found in axis\"",
     "output_type": "error",
     "traceback": [
      "\u001b[0;31m---------------------------------------------------------------------------\u001b[0m",
      "\u001b[0;31mKeyError\u001b[0m                                  Traceback (most recent call last)",
      "Cell \u001b[0;32mIn[13], line 2\u001b[0m\n\u001b[1;32m      1\u001b[0m \u001b[38;5;66;03m# Cleaning the data / drop monthly hash rate column\u001b[39;00m\n\u001b[0;32m----> 2\u001b[0m hash_df \u001b[38;5;241m=\u001b[39m hash_df\u001b[38;5;241m.\u001b[39mdrop(columns\u001b[38;5;241m=\u001b[39m[\u001b[38;5;124m\"\u001b[39m\u001b[38;5;124mmonthly_hashrate_\u001b[39m\u001b[38;5;124m%\u001b[39m\u001b[38;5;124m\"\u001b[39m])\n\u001b[1;32m      3\u001b[0m hash_df \u001b[38;5;241m=\u001b[39m [(hash_df\u001b[38;5;241m!=\u001b[39m\u001b[38;5;241m0\u001b[39m)\u001b[38;5;241m.\u001b[39many(axis\u001b[38;5;241m=\u001b[39m\u001b[38;5;241m1\u001b[39m)]\n\u001b[1;32m      4\u001b[0m hash_df\u001b[38;5;241m.\u001b[39mhead(\u001b[38;5;241m10\u001b[39m)\n",
      "File \u001b[0;32m~/anaconda3/lib/python3.11/site-packages/pandas/core/frame.py:5258\u001b[0m, in \u001b[0;36mDataFrame.drop\u001b[0;34m(self, labels, axis, index, columns, level, inplace, errors)\u001b[0m\n\u001b[1;32m   5110\u001b[0m \u001b[38;5;28;01mdef\u001b[39;00m \u001b[38;5;21mdrop\u001b[39m(\n\u001b[1;32m   5111\u001b[0m     \u001b[38;5;28mself\u001b[39m,\n\u001b[1;32m   5112\u001b[0m     labels: IndexLabel \u001b[38;5;241m=\u001b[39m \u001b[38;5;28;01mNone\u001b[39;00m,\n\u001b[0;32m   (...)\u001b[0m\n\u001b[1;32m   5119\u001b[0m     errors: IgnoreRaise \u001b[38;5;241m=\u001b[39m \u001b[38;5;124m\"\u001b[39m\u001b[38;5;124mraise\u001b[39m\u001b[38;5;124m\"\u001b[39m,\n\u001b[1;32m   5120\u001b[0m ) \u001b[38;5;241m-\u001b[39m\u001b[38;5;241m>\u001b[39m DataFrame \u001b[38;5;241m|\u001b[39m \u001b[38;5;28;01mNone\u001b[39;00m:\n\u001b[1;32m   5121\u001b[0m \u001b[38;5;250m    \u001b[39m\u001b[38;5;124;03m\"\"\"\u001b[39;00m\n\u001b[1;32m   5122\u001b[0m \u001b[38;5;124;03m    Drop specified labels from rows or columns.\u001b[39;00m\n\u001b[1;32m   5123\u001b[0m \n\u001b[0;32m   (...)\u001b[0m\n\u001b[1;32m   5256\u001b[0m \u001b[38;5;124;03m            weight  1.0     0.8\u001b[39;00m\n\u001b[1;32m   5257\u001b[0m \u001b[38;5;124;03m    \"\"\"\u001b[39;00m\n\u001b[0;32m-> 5258\u001b[0m     \u001b[38;5;28;01mreturn\u001b[39;00m \u001b[38;5;28msuper\u001b[39m()\u001b[38;5;241m.\u001b[39mdrop(\n\u001b[1;32m   5259\u001b[0m         labels\u001b[38;5;241m=\u001b[39mlabels,\n\u001b[1;32m   5260\u001b[0m         axis\u001b[38;5;241m=\u001b[39maxis,\n\u001b[1;32m   5261\u001b[0m         index\u001b[38;5;241m=\u001b[39mindex,\n\u001b[1;32m   5262\u001b[0m         columns\u001b[38;5;241m=\u001b[39mcolumns,\n\u001b[1;32m   5263\u001b[0m         level\u001b[38;5;241m=\u001b[39mlevel,\n\u001b[1;32m   5264\u001b[0m         inplace\u001b[38;5;241m=\u001b[39minplace,\n\u001b[1;32m   5265\u001b[0m         errors\u001b[38;5;241m=\u001b[39merrors,\n\u001b[1;32m   5266\u001b[0m     )\n",
      "File \u001b[0;32m~/anaconda3/lib/python3.11/site-packages/pandas/core/generic.py:4549\u001b[0m, in \u001b[0;36mNDFrame.drop\u001b[0;34m(self, labels, axis, index, columns, level, inplace, errors)\u001b[0m\n\u001b[1;32m   4547\u001b[0m \u001b[38;5;28;01mfor\u001b[39;00m axis, labels \u001b[38;5;129;01min\u001b[39;00m axes\u001b[38;5;241m.\u001b[39mitems():\n\u001b[1;32m   4548\u001b[0m     \u001b[38;5;28;01mif\u001b[39;00m labels \u001b[38;5;129;01mis\u001b[39;00m \u001b[38;5;129;01mnot\u001b[39;00m \u001b[38;5;28;01mNone\u001b[39;00m:\n\u001b[0;32m-> 4549\u001b[0m         obj \u001b[38;5;241m=\u001b[39m obj\u001b[38;5;241m.\u001b[39m_drop_axis(labels, axis, level\u001b[38;5;241m=\u001b[39mlevel, errors\u001b[38;5;241m=\u001b[39merrors)\n\u001b[1;32m   4551\u001b[0m \u001b[38;5;28;01mif\u001b[39;00m inplace:\n\u001b[1;32m   4552\u001b[0m     \u001b[38;5;28mself\u001b[39m\u001b[38;5;241m.\u001b[39m_update_inplace(obj)\n",
      "File \u001b[0;32m~/anaconda3/lib/python3.11/site-packages/pandas/core/generic.py:4591\u001b[0m, in \u001b[0;36mNDFrame._drop_axis\u001b[0;34m(self, labels, axis, level, errors, only_slice)\u001b[0m\n\u001b[1;32m   4589\u001b[0m         new_axis \u001b[38;5;241m=\u001b[39m axis\u001b[38;5;241m.\u001b[39mdrop(labels, level\u001b[38;5;241m=\u001b[39mlevel, errors\u001b[38;5;241m=\u001b[39merrors)\n\u001b[1;32m   4590\u001b[0m     \u001b[38;5;28;01melse\u001b[39;00m:\n\u001b[0;32m-> 4591\u001b[0m         new_axis \u001b[38;5;241m=\u001b[39m axis\u001b[38;5;241m.\u001b[39mdrop(labels, errors\u001b[38;5;241m=\u001b[39merrors)\n\u001b[1;32m   4592\u001b[0m     indexer \u001b[38;5;241m=\u001b[39m axis\u001b[38;5;241m.\u001b[39mget_indexer(new_axis)\n\u001b[1;32m   4594\u001b[0m \u001b[38;5;66;03m# Case for non-unique axis\u001b[39;00m\n\u001b[1;32m   4595\u001b[0m \u001b[38;5;28;01melse\u001b[39;00m:\n",
      "File \u001b[0;32m~/anaconda3/lib/python3.11/site-packages/pandas/core/indexes/base.py:6699\u001b[0m, in \u001b[0;36mIndex.drop\u001b[0;34m(self, labels, errors)\u001b[0m\n\u001b[1;32m   6697\u001b[0m \u001b[38;5;28;01mif\u001b[39;00m mask\u001b[38;5;241m.\u001b[39many():\n\u001b[1;32m   6698\u001b[0m     \u001b[38;5;28;01mif\u001b[39;00m errors \u001b[38;5;241m!=\u001b[39m \u001b[38;5;124m\"\u001b[39m\u001b[38;5;124mignore\u001b[39m\u001b[38;5;124m\"\u001b[39m:\n\u001b[0;32m-> 6699\u001b[0m         \u001b[38;5;28;01mraise\u001b[39;00m \u001b[38;5;167;01mKeyError\u001b[39;00m(\u001b[38;5;124mf\u001b[39m\u001b[38;5;124m\"\u001b[39m\u001b[38;5;132;01m{\u001b[39;00m\u001b[38;5;28mlist\u001b[39m(labels[mask])\u001b[38;5;132;01m}\u001b[39;00m\u001b[38;5;124m not found in axis\u001b[39m\u001b[38;5;124m\"\u001b[39m)\n\u001b[1;32m   6700\u001b[0m     indexer \u001b[38;5;241m=\u001b[39m indexer[\u001b[38;5;241m~\u001b[39mmask]\n\u001b[1;32m   6701\u001b[0m \u001b[38;5;28;01mreturn\u001b[39;00m \u001b[38;5;28mself\u001b[39m\u001b[38;5;241m.\u001b[39mdelete(indexer)\n",
      "\u001b[0;31mKeyError\u001b[0m: \"['monthly_hashrate_%'] not found in axis\""
     ]
    }
   ],
   "source": [
    "# Cleaning the data / drop monthly hash rate column\n",
    "hash_df = hash_df.drop(columns=[\"monthly_hashrate_%\"])\n",
    "hash_df.head(10)"
   ]
  },
  {
   "cell_type": "code",
   "execution_count": null,
   "id": "7904f4d4-e4a0-4b77-b945-6030be671ed2",
   "metadata": {
    "tags": []
   },
   "outputs": [],
   "source": [
    "# Cleaning the data specific to country\n",
    "# Mainland China\n",
    "hash_df_China = hash_df.loc[hash_df['country'] == 'Mainland China'].copy()\n",
    "hash_df_China.head()\n",
    "# Other\n",
    "hash_df_Other = hash_df.loc[hash_df['country'] == 'Other'].copy()\n",
    "hash_df_Other.head(10)\n",
    "# Russian Federation\n",
    "hash_df_Russia = hash_df.loc[hash_df['country'] == 'Russian Federation'].copy()\n",
    "hash_df_Russia.head(10)\n",
    "# United States\n",
    "hash_df_US = hash_df.loc[hash_df['country'] == 'United States'].copy()\n",
    "hash_df_US.head(10)\n",
    "# Malaysia\n",
    "hash_df_Malaysia = hash_df.loc[hash_df['country'] == 'Malaysia'].copy()\n",
    "hash_df_Malaysia.head(10)\n",
    "# Iran\n",
    "hash_df_Iran = hash_df.loc[hash_df['country'] == 'Iran, Islamic Rep.'].copy()\n",
    "hash_df_Iran.head(10)\n",
    "# Kazakhstan\n",
    "hash_df_Kazakhstan = hash_df.loc[hash_df['country'] == 'Kazakhstan'].copy()\n",
    "hash_df_Kazakhstan.head(10)\n",
    "# Kazakhstan\n",
    "hash_df_Canada = hash_df.loc[hash_df['country'] == 'Canada'].copy()\n",
    "hash_df_Canada.head(10)\n",
    "# Germany\n",
    "hash_df_Germany = hash_df.loc[hash_df['country'] == 'Germany *'].copy()\n",
    "hash_df_Germany.head(10)\n",
    "# Germany\n",
    "hash_df_Ireland = hash_df.loc[hash_df['country'] == 'Ireland *'].copy()\n",
    "#hash_df_Ireland_returns = hash_df_Ireland.pct_change(['monthly_absolute_hashrate_EH/S'])\n",
    "hash_df_Ireland_returns = hash_df_Ireland.iloc[:,1].pct_change()\n",
    "hash_df_Ireland_returns.head(100)"
   ]
  },
  {
   "cell_type": "code",
   "execution_count": null,
   "id": "839e791f-daf7-450f-a960-f019cef47b46",
   "metadata": {
    "tags": []
   },
   "outputs": [],
   "source": [
    "#Calculate China daily returns and cumulative returns\n",
    "China_returns = hash_df_China.iloc[:,1].pct_change()\n",
    "China_returns.dropna(inplace=True)\n",
    "China_returns.head(20)\n",
    "#Calculate cumulative returns\n",
    "cumulative_China_returns = (1 + China_returns).cumprod() - 1\n",
    "cumulative_China_returns.plot()\n",
    "\n",
    "#Calculate Other daily returns and cumulative returns\n",
    "Other_returns = hash_df_Other.iloc[:,1].pct_change()\n",
    "Other_returns.dropna(inplace=True)\n",
    "Other_returns.head(20)\n",
    "#Calculate cumulative returns\n",
    "cumulative_Other_returns = (1 + Other_returns).cumprod() - 1\n",
    "cumulative_Other_returns.plot()\n",
    "\n",
    "#Calculate Russia daily returns and cumulative returns\n",
    "Russia_returns = hash_df_Russia.iloc[:,1].pct_change()\n",
    "Russia_returns.dropna(inplace=True)\n",
    "Russia_returns.head(20)\n",
    "#Calculate cumulative returns\n",
    "cumulative_Russia_returns = (1 + Russia_returns).cumprod() - 1\n",
    "cumulative_Russia_returns.plot()\n",
    "\n",
    "#Calculate Russia daily returns and cumulative returns\n",
    "Russia_returns = hash_df_Russia.iloc[:,1].pct_change()\n",
    "Russia_returns.dropna(inplace=True)\n",
    "Russia_returns.head(20)\n",
    "#Calculate cumulative returns\n",
    "cumulative_Russia_returns = (1 + Russia_returns).cumprod() - 1\n",
    "cumulative_Russia_returns.plot()\n",
    "\n",
    "#Calculate US daily returns and cumulative returns\n",
    "US_returns = hash_df_US.iloc[:,1].pct_change()\n",
    "US_returns.dropna(inplace=True)\n",
    "US_returns.head(20)\n",
    "#Calculate cumulative returns\n",
    "cumulative_US_returns = (1 + US_returns).cumprod() - 1\n",
    "cumulative_US_returns.plot()\n",
    "\n",
    "#Calculate Malaysia daily returns and cumulative returns\n",
    "Malaysia_returns = hash_df_Malaysia.iloc[:,1].pct_change()\n",
    "Malaysia_returns.dropna(inplace=True)\n",
    "Malaysia_returns.head(20)\n",
    "#Calculate cumulative returns\n",
    "cumulative_Malaysia_returns = (1 + Malaysia_returns).cumprod() - 1\n",
    "cumulative_Malaysia_returns.plot()\n",
    "\n",
    "#Calculate Iran daily returns and cumulative returns\n",
    "Iran_returns = hash_df_Iran.iloc[:,1].pct_change()\n",
    "Iran_returns.dropna(inplace=True)\n",
    "Iran_returns.head(20)\n",
    "#Calculate cumulative returns\n",
    "cumulative_Iran_returns = (1 + Iran_returns).cumprod() - 1\n",
    "cumulative_Iran_returns.plot()\n",
    "\n",
    "#Calculate Kazakhstan daily returns and cumulative returns\n",
    "Kazakhstan_returns = hash_df_Kazakhstan.iloc[:,1].pct_change()\n",
    "Kazakhstan_returns.dropna(inplace=True)\n",
    "Kazakhstan_returns.head(20)\n",
    "#Calculate cumulative returns\n",
    "cumulative_Kazakhstan_returns = (1 + Kazakhstan_returns).cumprod() - 1\n",
    "cumulative_Kazakhstan_returns.plot()\n",
    "\n",
    "#Calculate Canada daily returns and cumulative returns\n",
    "Canada_returns = hash_df_Canada.iloc[:,1].pct_change()\n",
    "Canada_returns.dropna(inplace=True)\n",
    "Canada_returns.head(20)\n",
    "#Calculate cumulative returns\n",
    "cumulative_Canada_returns = (1 + Canada_returns).cumprod() - 1\n",
    "cumulative_Canada_returns.plot()\n",
    "\n",
    "#Calculate Germany daily returns and cumulative returns\n",
    "Germany_returns = hash_df_Germany.iloc[:,1].pct_change()\n",
    "Germany_returns.dropna(inplace=True)\n",
    "Germany_returns.head(20)\n",
    "#Calculate cumulative returns\n",
    "cumulative_Germany_returns = (1 + Germany_returns).cumprod() - 1\n",
    "cumulative_Germany_returns.plot()\n",
    "\n",
    "#Calculate Ireland daily returns and cumulative returns\n",
    "Ireland_returns = hash_df_Ireland.iloc[:,1].pct_change()\n",
    "Ireland_returns.dropna(inplace=True)\n",
    "Ireland_returns.head(20)\n",
    "#Calculate cumulative returns\n",
    "cumulative_Ireland_returns = (1 + Ireland_returns).cumprod() - 1\n",
    "cumulative_Ireland_returns.plot()\n"
   ]
  },
  {
   "cell_type": "code",
   "execution_count": null,
   "id": "eda1d7ea-1484-42c0-800f-1bfe4e2a9268",
   "metadata": {
    "tags": []
   },
   "outputs": [],
   "source": [
    "#New Data Frame / Cumulative returns\n",
    "combined_df = pd.concat([China_returns,Other_returns,Russia_returns,US_returns,Malaysia_returns,Iran_returns,Kazakhstan_returns,Canada_returns,Germany_returns,Ireland_returns], axis=\"columns\", join=\"outer\")\n",
    "combined_df.head(40)\n",
    "combined_df.plot()"
   ]
  },
  {
   "cell_type": "code",
   "execution_count": null,
   "id": "96e41e96-594c-46de-ac6a-ce92d57db05f",
   "metadata": {},
   "outputs": [],
   "source": [
    "# Set number of simulations\n",
    "num_sims = 1000\n",
    "\n",
    "# Configure a Monte Carlo simulation to forecast three years daily returns\n",
    "MC_CHANGES = MCSimulation(\n",
    "    portfolio_data = combined_df,\n",
    "    num_simulation = num_sims,\n",
    "    num_trading_days = 12*3\n",
    ")"
   ]
  },
  {
   "cell_type": "code",
   "execution_count": 14,
   "id": "a5f44211-4df2-429a-9561-0b125f2e1ba0",
   "metadata": {
    "tags": []
   },
   "outputs": [
    {
     "ename": "NameError",
     "evalue": "name 'MC_TSLA' is not defined",
     "output_type": "error",
     "traceback": [
      "\u001b[0;31m---------------------------------------------------------------------------\u001b[0m",
      "\u001b[0;31mNameError\u001b[0m                                 Traceback (most recent call last)",
      "Cell \u001b[0;32mIn[14], line 2\u001b[0m\n\u001b[1;32m      1\u001b[0m \u001b[38;5;66;03m# Run Monte Carlo simulations to forecast three years daily returns\u001b[39;00m\n\u001b[0;32m----> 2\u001b[0m MC_TSLA\u001b[38;5;241m.\u001b[39mcalc_cumulative_return()\n",
      "\u001b[0;31mNameError\u001b[0m: name 'MC_TSLA' is not defined"
     ]
    }
   ],
   "source": [
    "# Run Monte Carlo simulations to forecast three years daily returns\n",
    "MC_CHANGES.calc_cumulative_return()"
   ]
  },
  {
   "cell_type": "code",
   "execution_count": null,
   "id": "9a9eb23f-fcdf-42f3-8f00-2a4c03bed72a",
   "metadata": {},
   "outputs": [],
   "source": [
    "# Compute summary statistics from the simulated daily returns\n",
    "simulated_returns_data = {\n",
    "    \"mean\": list(MC_CHANGES.simulated_return.mean(axis=1)),\n",
    "    \"median\": list(MC_CHANGES.simulated_return.median(axis=1)),\n",
    "    \"min\": list(MC_CHANGES.simulated_return.min(axis=1)),\n",
    "    \"max\": list(MC_CHANGES.simulated_return.max(axis=1))\n",
    "}\n",
    "\n",
    "# Create a DataFrame with the summary statistics\n",
    "df_simulated_returns = pd.DataFrame(simulated_returns_data)\n",
    "\n",
    "# Display sample data\n",
    "df_simulated_returns.head()"
   ]
  },
  {
   "cell_type": "code",
   "execution_count": null,
   "id": "6c66bd9b-db3e-4239-9da0-f1236651be01",
   "metadata": {},
   "outputs": [],
   "source": []
  },
  {
   "cell_type": "code",
   "execution_count": null,
   "id": "a204b9f5-1ee4-487c-8c15-36675752f0a7",
   "metadata": {},
   "outputs": [],
   "source": []
  },
  {
   "cell_type": "code",
   "execution_count": null,
   "id": "e5689c78-6033-4d07-9ce3-104e1e20bd42",
   "metadata": {},
   "outputs": [],
   "source": []
  },
  {
   "cell_type": "code",
   "execution_count": null,
   "id": "b3f8c720-0d88-4609-91f7-8cccdd709176",
   "metadata": {},
   "outputs": [],
   "source": []
  }
 ],
 "metadata": {
  "kernelspec": {
   "display_name": "Python 3 (ipykernel)",
   "language": "python",
   "name": "python3"
  },
  "language_info": {
   "codemirror_mode": {
    "name": "ipython",
    "version": 3
   },
   "file_extension": ".py",
   "mimetype": "text/x-python",
   "name": "python",
   "nbconvert_exporter": "python",
   "pygments_lexer": "ipython3",
   "version": "3.11.4"
  }
 },
 "nbformat": 4,
 "nbformat_minor": 5
}
